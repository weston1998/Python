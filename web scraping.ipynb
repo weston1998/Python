{
 "cells": [
  {
   "cell_type": "code",
   "execution_count": 4,
   "id": "bbc8c8fc",
   "metadata": {},
   "outputs": [],
   "source": [
    "import requests\n",
    "from bs4 import BeautifulSoup\n",
    "import csv"
   ]
  },
  {
   "cell_type": "code",
   "execution_count": 2,
   "id": "23ae6c96",
   "metadata": {},
   "outputs": [],
   "source": [
    "\n",
    "\n",
    "\n",
    "# Create top_items as empty list\n",
    "all_products = []\n",
    "\n",
    "# Extract and store in top_items according to instructions on the left\n",
    "products = soup.select('div.thumbnail')\n",
    "for product in products:\n",
    "    name = product.select('h4 > a')[0].text.strip()\n",
    "    description = product.select('p.description')[0].text.strip()\n",
    "    price = product.select('h4.price')[0].text.strip()\n",
    "    reviews = product.select('div.ratings')[0].text.strip()\n",
    "    image = product.select('img')[0].get('src')\n",
    "\n",
    "    all_products.append({\n",
    "        \"name\": name,\n",
    "        \"description\": description,\n",
    "        \"price\": price,\n",
    "        \"reviews\": reviews,\n",
    "        \"image\": image\n",
    "    })"
   ]
  },
  {
   "cell_type": "code",
   "execution_count": 3,
   "id": "d7fc9328",
   "metadata": {},
   "outputs": [
    {
     "data": {
      "text/plain": [
       "[<div class=\"thumbnail\">\n",
       " <img alt=\"item\" class=\"img-responsive\" src=\"/webscraper-python-codedamn-classroom-website/cart2.png\"/>\n",
       " <div class=\"caption\">\n",
       " <h4 class=\"pull-right price\">$1139.54</h4>\n",
       " <h4>\n",
       " <a class=\"title\" href=\"/webscraper-python-codedamn-classroom-website/test-sites/e-commerce/allinone/product/593\" title=\"Asus AsusPro Advanced BU401LA-FA271G Dark Grey\">Asus AsusPro Adv...</a>\n",
       " </h4>\n",
       " <p class=\"description\">\n",
       " \t\t\t\t\t\t\t\t\t\t\tAsus AsusPro Advanced BU401LA-FA271G Dark Grey,\n",
       " \t\t\t\t\t\t\t\t\t\t\t14\", Core i5-4210U, 4GB, 128GB SSD, Win7 Pro 64bit,\n",
       " \t\t\t\t\t\t\t\t\t\t\tENG\n",
       " \t\t\t\t\t\t\t\t\t\t</p>\n",
       " </div>\n",
       " <div class=\"ratings\">\n",
       " <p class=\"pull-right\">7 reviews</p>\n",
       " <p data-rating=\"3\">\n",
       " <span class=\"glyphicon glyphicon-star\"></span>\n",
       " <span class=\"glyphicon glyphicon-star\"></span>\n",
       " <span class=\"glyphicon glyphicon-star\"></span>\n",
       " </p>\n",
       " </div>\n",
       " </div>,\n",
       " <div class=\"thumbnail\">\n",
       " <img alt=\"item\" class=\"img-responsive\" src=\"/webscraper-python-codedamn-classroom-website/cart2.png\"/>\n",
       " <div class=\"caption\">\n",
       " <h4 class=\"pull-right price\">$1101.83</h4>\n",
       " <h4>\n",
       " <a class=\"title\" href=\"/webscraper-python-codedamn-classroom-website/test-sites/e-commerce/allinone/product/583\" title=\"Asus ROG Strix GL553VD-DM535T\">Asus ROG Strix G...</a>\n",
       " </h4>\n",
       " <p class=\"description\">\n",
       " \t\t\t\t\t\t\t\t\t\t\tApple MacBook Air 13.3\", Core i5 1.8GHz, 8GB, 128GB\n",
       " \t\t\t\t\t\t\t\t\t\t\tSSD, Intel HD 4000, RUS\n",
       " \t\t\t\t\t\t\t\t\t\t</p>\n",
       " </div>\n",
       " <div class=\"ratings\">\n",
       " <p class=\"pull-right\">4 reviews</p>\n",
       " <p data-rating=\"2\">\n",
       " <span class=\"glyphicon glyphicon-star\"></span>\n",
       " <span class=\"glyphicon glyphicon-star\"></span>\n",
       " </p>\n",
       " </div>\n",
       " </div>,\n",
       " <div class=\"thumbnail\">\n",
       " <img alt=\"item\" class=\"img-responsive\" src=\"/webscraper-python-codedamn-classroom-website/cart2.png\"/>\n",
       " <div class=\"caption\">\n",
       " <h4 class=\"pull-right price\">$494.71</h4>\n",
       " <h4>\n",
       " <a class=\"title\" href=\"/webscraper-python-codedamn-classroom-website/test-sites/e-commerce/allinone/product/576\" title=\"Acer Aspire 3 A315-51 Black\">Acer Aspire 3 A3...</a>\n",
       " </h4>\n",
       " <p class=\"description\">\n",
       " \t\t\t\t\t\t\t\t\t\t\tAcer Aspire 3 A315-51 Black, 15.6\" FHD, Core\n",
       " \t\t\t\t\t\t\t\t\t\t\ti3-7100U, 4GB, 500GB + 128GB SSD, Windows 10 Home\n",
       " \t\t\t\t\t\t\t\t\t\t</p>\n",
       " </div>\n",
       " <div class=\"ratings\">\n",
       " <p class=\"pull-right\">2 reviews</p>\n",
       " <p data-rating=\"4\">\n",
       " <span class=\"glyphicon glyphicon-star\"></span>\n",
       " <span class=\"glyphicon glyphicon-star\"></span>\n",
       " <span class=\"glyphicon glyphicon-star\"></span>\n",
       " <span class=\"glyphicon glyphicon-star\"></span>\n",
       " </p>\n",
       " </div>\n",
       " </div>]"
      ]
     },
     "execution_count": 3,
     "metadata": {},
     "output_type": "execute_result"
    }
   ],
   "source": [
    "products"
   ]
  },
  {
   "cell_type": "code",
   "execution_count": null,
   "id": "3ceabcf4",
   "metadata": {},
   "outputs": [],
   "source": []
  }
 ],
 "metadata": {
  "kernelspec": {
   "display_name": "Python 3",
   "language": "python",
   "name": "python3"
  },
  "language_info": {
   "codemirror_mode": {
    "name": "ipython",
    "version": 3
   },
   "file_extension": ".py",
   "mimetype": "text/x-python",
   "name": "python",
   "nbconvert_exporter": "python",
   "pygments_lexer": "ipython3",
   "version": "3.8.8"
  }
 },
 "nbformat": 4,
 "nbformat_minor": 5
}
